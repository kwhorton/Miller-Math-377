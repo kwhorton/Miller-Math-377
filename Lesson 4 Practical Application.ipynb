{
 "cells": [
  {
   "cell_type": "markdown",
   "metadata": {},
   "source": [
    "# Lesson 4 Practical Application\n",
    "\n",
    "### C2C Noah Miller"
   ]
  },
  {
   "cell_type": "code",
   "execution_count": 24,
   "metadata": {},
   "outputs": [],
   "source": [
    "from datascience import *\n",
    "import numpy as np\n",
    "\n",
    "%matplotlib inline\n",
    "import matplotlib.pyplot as plots\n",
    "plots.style.use('fivethirtyeight')\n",
    "import warnings\n",
    "warnings.simplefilter(action=\"ignore\", category=FutureWarning)"
   ]
  },
  {
   "cell_type": "markdown",
   "metadata": {},
   "source": [
    "I am going to create three variables for my name, age and hometown respectively. I will then create a sentance using these three variables."
   ]
  },
  {
   "cell_type": "code",
   "execution_count": 30,
   "metadata": {},
   "outputs": [
    {
     "name": "stdout",
     "output_type": "stream",
     "text": [
      "I am Noah Miller. I am 20 years old. I'm from DuPont, WA.\n"
     ]
    }
   ],
   "source": [
    "name = \"Noah Miller\"\n",
    "age = \"20\"\n",
    "hometown = \"DuPont, WA\"\n",
    "sentance = \"I am \" + name + \". I am \" + age + \" years old. I'm from \" + hometown + \".\"\n",
    "print(sentance)"
   ]
  },
  {
   "cell_type": "markdown",
   "metadata": {},
   "source": [
    "I will now make my name lower case."
   ]
  },
  {
   "cell_type": "code",
   "execution_count": 33,
   "metadata": {},
   "outputs": [
    {
     "name": "stdout",
     "output_type": "stream",
     "text": [
      "noah miller\n"
     ]
    }
   ],
   "source": [
    "lower_name = name.lower()\n",
    "print(lower_name)"
   ]
  },
  {
   "cell_type": "markdown",
   "metadata": {},
   "source": [
    "I will now make it uppercase again."
   ]
  },
  {
   "cell_type": "code",
   "execution_count": 34,
   "metadata": {},
   "outputs": [
    {
     "name": "stdout",
     "output_type": "stream",
     "text": [
      "Noah Miller\n"
     ]
    }
   ],
   "source": [
    "upper_name = lower_name.title()\n",
    "print(upper_name)"
   ]
  },
  {
   "cell_type": "markdown",
   "metadata": {},
   "source": [
    "I will now replace all of the \"I am\" statements with \"He is\" and \"I'm\" with \"He's\"."
   ]
  },
  {
   "cell_type": "code",
   "execution_count": 36,
   "metadata": {},
   "outputs": [
    {
     "name": "stdout",
     "output_type": "stream",
     "text": [
      "He is Noah Miller. He is 20 years old. He's from DuPont, WA.\n"
     ]
    }
   ],
   "source": [
    "sentance_he = sentance.replace(\"I am\", \"He is\").replace(\"I'm\", \"He's\")\n",
    "print(sentance_he)"
   ]
  },
  {
   "cell_type": "raw",
   "metadata": {},
   "source": [
    "I will now determine whether my original sentance has more or less than 40 characters."
   ]
  },
  {
   "cell_type": "code",
   "execution_count": 38,
   "metadata": {},
   "outputs": [
    {
     "name": "stdout",
     "output_type": "stream",
     "text": [
      "The sentance is not greater than my age plus 40 characters!\n"
     ]
    }
   ],
   "source": [
    "if len(sentance) > int(age) + 40:\n",
    "    print(\"The sentance is greater than my age plus 40 characters!\")\n",
    "else:\n",
    "    print(\"The sentance is not greater than my age plus 40 characters!\")"
   ]
  }
 ],
 "metadata": {
  "kernelspec": {
   "display_name": "Python 3",
   "language": "python",
   "name": "python3"
  },
  "language_info": {
   "codemirror_mode": {
    "name": "ipython",
    "version": 3
   },
   "file_extension": ".py",
   "mimetype": "text/x-python",
   "name": "python",
   "nbconvert_exporter": "python",
   "pygments_lexer": "ipython3",
   "version": "3.6.5"
  }
 },
 "nbformat": 4,
 "nbformat_minor": 2
}
